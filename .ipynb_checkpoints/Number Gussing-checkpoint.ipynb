{
 "cells": [
  {
   "cell_type": "markdown",
   "id": "6c962243",
   "metadata": {},
   "source": [
    "This is a simple number guessing game. Player start the game and guess a number between 1 to 100 each time he receive the range of where the answer are."
   ]
  },
  {
   "cell_type": "code",
   "execution_count": 24,
   "id": "3f643355",
   "metadata": {},
   "outputs": [],
   "source": [
    "import numpy as np\n",
    "import random"
   ]
  },
  {
   "cell_type": "code",
   "execution_count": 4,
   "id": "abc81990",
   "metadata": {},
   "outputs": [],
   "source": [
    "\n",
    "  \n",
    "def run_game_loop():\n",
    "    while True:\n",
    "\n",
    "        #initialize game parameters\n",
    "        answer = random.randint(1,100)\n",
    "        upper = 100\n",
    "        lower = 0\n",
    "        wroug_count = 0\n",
    "\n",
    "        #game loop\n",
    "        while True:\n",
    "            your_number = input(\"Please input a number.\")\n",
    "\n",
    "            #keep validate user input can cast to int\n",
    "            while not your_number.isdigit():\n",
    "                print(\"Wrong type, input a !! NUMBER !!.\")\n",
    "                your_number = input(\"Please input a number.\")\n",
    "\n",
    "            your_number = int(your_number)\n",
    "\n",
    "            #check answer and update any parameters\n",
    "            if answer == your_number:\n",
    "                print(f\"You are right, you have attempt {wroug_count} times.\")\n",
    "                break\n",
    "            else:\n",
    "                if your_number > answer:\n",
    "                    wroug_count += 1\n",
    "                    upper = your_number\n",
    "                    print(f\"Wrong, the answer is between {lower} and {upper}. attempt = {wroug_count}\")\n",
    "\n",
    "                elif your_number < answer:\n",
    "                    wroug_count += 1\n",
    "                    lower = your_number\n",
    "                    print(f\"Wrong, the answer is between {lower} and {upper}. attempt = {wroug_count}\")\n",
    "\n",
    "        #end of game, ask play again\n",
    "        again = input(\"Do you want to try again?(y/n)\")\n",
    "\n",
    "        #Exit game loop\n",
    "        if again == \"n\":\n",
    "            print(\"OK, have a nice day.\")\n",
    "            return False\n",
    "\n",
    "def main_loop():\n",
    "    play = True\n",
    "    while play:\n",
    "        start = input(\"Start?(y/n)\")\n",
    "\n",
    "        if start == \"y\":\n",
    "            play = run_game_loop()\n",
    "\n",
    "        else:\n",
    "            print(\"OK, have a nice day.\")\n",
    "            break\n"
   ]
  },
  {
   "cell_type": "code",
   "execution_count": 2,
   "id": "e9caefc0",
   "metadata": {},
   "outputs": [
    {
     "name": "stdout",
     "output_type": "stream",
     "text": [
      "Start?(y/n)y\n",
      "Please input a number.50\n",
      "Wrong, the answer is between 50 and 100. attempt = 1\n",
      "Please input a number.75\n",
      "Wrong, the answer is between 50 and 75. attempt = 2\n",
      "Please input a number.63\n",
      "Wrong, the answer is between 50 and 63. attempt = 3\n",
      "Please input a number.55\n",
      "Wrong, the answer is between 55 and 63. attempt = 4\n",
      "Please input a number.59\n",
      "Wrong, the answer is between 55 and 59. attempt = 5\n",
      "Please input a number.57\n",
      "Wrong, the answer is between 57 and 59. attempt = 6\n",
      "Please input a number.hjno\n",
      "Wrong type, input a !! NUMBER !!.\n",
      "Please input a number.58\n",
      "You are right, you have attempt 6 times.\n",
      "Do you want to try again?(y/n)n\n",
      "OK, have a nice day.\n"
     ]
    }
   ],
   "source": [
    "main_loop()"
   ]
  },
  {
   "cell_type": "markdown",
   "id": "113d01b9",
   "metadata": {},
   "source": [
    "This time a robot try to play it. This simple robot will just randomly guess a number each time and log what it will receive from the environment. All print will change to log. The robot will only start the game 1 time  and play 10 times."
   ]
  },
  {
   "cell_type": "code",
   "execution_count": 18,
   "id": "61657b55",
   "metadata": {},
   "outputs": [],
   "source": [
    "class Robot():\n",
    "    def __init__(self):\n",
    "        self.starttime = 1\n",
    "        self.play_time = 10\n",
    "        self.log = []\n",
    "        self.wrong_count_list = []\n",
    "    \n",
    "    def can_start(self):\n",
    "        return self.starttime > 0\n",
    "    def can_play(self):\n",
    "        return self.play_time > 0\n",
    "        \n",
    "    def guess_number(self,lower,upper):\n",
    "        return random.randint(lower,upper)\n",
    "\n",
    "class Env():\n",
    "    def __init__(self):\n",
    "        self.game_name = \"Guess Number\"\n",
    "        \n",
    "    def run_game_loop(self, player):\n",
    "        while True:\n",
    "\n",
    "            #initialize game parameters\n",
    "            answer = random.randint(1,100)\n",
    "            upper = 100\n",
    "            lower = 0\n",
    "            wroug_count = 0\n",
    "\n",
    "            #game loop\n",
    "            while True:\n",
    "                your_number = player.guess_number(lower,upper)\n",
    "\n",
    "                #check answer and update any parameters\n",
    "                if answer == your_number:\n",
    "                    player.log.append(f\"You are right, you have attempt {wroug_count} times.\")\n",
    "                    player.wrong_count_list.append(wroug_count)\n",
    "                    break\n",
    "                else:\n",
    "                    if your_number > answer:\n",
    "                        wroug_count += 1\n",
    "                        upper = your_number\n",
    "                        player.log.append(f\"Wrong, the answer is between {lower} and {upper}. attempt = {wroug_count}\")\n",
    "\n",
    "                    elif your_number < answer:\n",
    "                        wroug_count += 1\n",
    "                        lower = your_number\n",
    "                        player.log.append(f\"Wrong, the answer is between {lower} and {upper}. attempt = {wroug_count}\")\n",
    "\n",
    "            #end of game, ask play again\n",
    "            again = player.can_play()\n",
    "            player.play_time -= 1\n",
    "\n",
    "            #Exit game loop\n",
    "            if not again:\n",
    "                player.log.append(\"OK, have a nice day.\")\n",
    "                return False\n",
    "            \n",
    "\n",
    "    def main_loop(self, player):\n",
    "        play = True\n",
    "        while play:\n",
    "            \n",
    "            start = player.can_start()\n",
    "            player.starttime -= 1\n",
    "\n",
    "            if start == True:\n",
    "                #it either return false of never end\n",
    "                play = self.run_game_loop(player)\n",
    "\n",
    "            else:\n",
    "                player.log.append(\"OK, have a nice day.\")\n",
    "                break\n"
   ]
  },
  {
   "cell_type": "code",
   "execution_count": 19,
   "id": "4a1a60b8",
   "metadata": {},
   "outputs": [],
   "source": [
    "robot = Robot()\n",
    "env = Env()\n",
    "\n",
    "env.main_loop(robot)"
   ]
  },
  {
   "cell_type": "code",
   "execution_count": 20,
   "id": "303bcdef",
   "metadata": {},
   "outputs": [
    {
     "data": {
      "text/plain": [
       "['Wrong, the answer is between 68 and 100. attempt = 1',\n",
       " 'Wrong, the answer is between 81 and 100. attempt = 2',\n",
       " 'Wrong, the answer is between 81 and 92. attempt = 3',\n",
       " 'Wrong, the answer is between 84 and 92. attempt = 4',\n",
       " 'Wrong, the answer is between 84 and 92. attempt = 5',\n",
       " 'Wrong, the answer is between 84 and 91. attempt = 6',\n",
       " 'Wrong, the answer is between 84 and 91. attempt = 7',\n",
       " 'Wrong, the answer is between 85 and 91. attempt = 8',\n",
       " 'You are right, you have attempt 8 times.',\n",
       " 'Wrong, the answer is between 26 and 100. attempt = 1',\n",
       " 'Wrong, the answer is between 26 and 73. attempt = 2',\n",
       " 'Wrong, the answer is between 33 and 73. attempt = 3',\n",
       " 'Wrong, the answer is between 60 and 73. attempt = 4',\n",
       " 'Wrong, the answer is between 65 and 73. attempt = 5',\n",
       " 'You are right, you have attempt 5 times.',\n",
       " 'Wrong, the answer is between 26 and 100. attempt = 1',\n",
       " 'Wrong, the answer is between 34 and 100. attempt = 2',\n",
       " 'Wrong, the answer is between 34 and 44. attempt = 3',\n",
       " 'Wrong, the answer is between 34 and 42. attempt = 4',\n",
       " 'Wrong, the answer is between 34 and 42. attempt = 5',\n",
       " 'Wrong, the answer is between 34 and 42. attempt = 6',\n",
       " 'Wrong, the answer is between 34 and 38. attempt = 7',\n",
       " 'Wrong, the answer is between 35 and 38. attempt = 8',\n",
       " 'Wrong, the answer is between 35 and 37. attempt = 9',\n",
       " 'Wrong, the answer is between 35 and 37. attempt = 10',\n",
       " 'Wrong, the answer is between 35 and 37. attempt = 11',\n",
       " 'Wrong, the answer is between 35 and 37. attempt = 12',\n",
       " 'Wrong, the answer is between 35 and 37. attempt = 13',\n",
       " 'You are right, you have attempt 13 times.',\n",
       " 'Wrong, the answer is between 7 and 100. attempt = 1',\n",
       " 'Wrong, the answer is between 16 and 100. attempt = 2',\n",
       " 'You are right, you have attempt 2 times.',\n",
       " 'You are right, you have attempt 0 times.',\n",
       " 'Wrong, the answer is between 29 and 100. attempt = 1',\n",
       " 'Wrong, the answer is between 29 and 95. attempt = 2',\n",
       " 'Wrong, the answer is between 29 and 76. attempt = 3',\n",
       " 'Wrong, the answer is between 33 and 76. attempt = 4',\n",
       " 'Wrong, the answer is between 59 and 76. attempt = 5',\n",
       " 'Wrong, the answer is between 59 and 68. attempt = 6',\n",
       " 'Wrong, the answer is between 59 and 67. attempt = 7',\n",
       " 'Wrong, the answer is between 61 and 67. attempt = 8',\n",
       " 'Wrong, the answer is between 64 and 67. attempt = 9',\n",
       " 'Wrong, the answer is between 64 and 67. attempt = 10',\n",
       " 'Wrong, the answer is between 64 and 67. attempt = 11',\n",
       " 'Wrong, the answer is between 65 and 67. attempt = 12',\n",
       " 'You are right, you have attempt 12 times.',\n",
       " 'Wrong, the answer is between 0 and 72. attempt = 1',\n",
       " 'Wrong, the answer is between 1 and 72. attempt = 2',\n",
       " 'Wrong, the answer is between 3 and 72. attempt = 3',\n",
       " 'Wrong, the answer is between 33 and 72. attempt = 4',\n",
       " 'Wrong, the answer is between 42 and 72. attempt = 5',\n",
       " 'Wrong, the answer is between 68 and 72. attempt = 6',\n",
       " 'Wrong, the answer is between 68 and 72. attempt = 7',\n",
       " 'Wrong, the answer is between 68 and 72. attempt = 8',\n",
       " 'Wrong, the answer is between 68 and 72. attempt = 9',\n",
       " 'You are right, you have attempt 9 times.',\n",
       " 'Wrong, the answer is between 0 and 55. attempt = 1',\n",
       " 'Wrong, the answer is between 1 and 55. attempt = 2',\n",
       " 'Wrong, the answer is between 3 and 55. attempt = 3',\n",
       " 'Wrong, the answer is between 3 and 12. attempt = 4',\n",
       " 'Wrong, the answer is between 3 and 12. attempt = 5',\n",
       " 'Wrong, the answer is between 4 and 12. attempt = 6',\n",
       " 'Wrong, the answer is between 8 and 12. attempt = 7',\n",
       " 'Wrong, the answer is between 10 and 12. attempt = 8',\n",
       " 'Wrong, the answer is between 10 and 12. attempt = 9',\n",
       " 'Wrong, the answer is between 10 and 12. attempt = 10',\n",
       " 'You are right, you have attempt 10 times.',\n",
       " 'Wrong, the answer is between 7 and 100. attempt = 1',\n",
       " 'Wrong, the answer is between 7 and 85. attempt = 2',\n",
       " 'Wrong, the answer is between 7 and 77. attempt = 3',\n",
       " 'Wrong, the answer is between 34 and 77. attempt = 4',\n",
       " 'Wrong, the answer is between 46 and 77. attempt = 5',\n",
       " 'Wrong, the answer is between 46 and 71. attempt = 6',\n",
       " 'Wrong, the answer is between 46 and 61. attempt = 7',\n",
       " 'Wrong, the answer is between 46 and 57. attempt = 8',\n",
       " 'Wrong, the answer is between 46 and 55. attempt = 9',\n",
       " 'Wrong, the answer is between 46 and 51. attempt = 10',\n",
       " 'Wrong, the answer is between 46 and 51. attempt = 11',\n",
       " 'Wrong, the answer is between 46 and 49. attempt = 12',\n",
       " 'You are right, you have attempt 12 times.',\n",
       " 'Wrong, the answer is between 0 and 91. attempt = 1',\n",
       " 'Wrong, the answer is between 0 and 89. attempt = 2',\n",
       " 'Wrong, the answer is between 59 and 89. attempt = 3',\n",
       " 'Wrong, the answer is between 59 and 88. attempt = 4',\n",
       " 'Wrong, the answer is between 59 and 80. attempt = 5',\n",
       " 'Wrong, the answer is between 59 and 75. attempt = 6',\n",
       " 'Wrong, the answer is between 59 and 75. attempt = 7',\n",
       " 'Wrong, the answer is between 59 and 75. attempt = 8',\n",
       " 'Wrong, the answer is between 65 and 75. attempt = 9',\n",
       " 'Wrong, the answer is between 65 and 72. attempt = 10',\n",
       " 'Wrong, the answer is between 67 and 72. attempt = 11',\n",
       " 'Wrong, the answer is between 67 and 72. attempt = 12',\n",
       " 'You are right, you have attempt 12 times.',\n",
       " 'Wrong, the answer is between 56 and 100. attempt = 1',\n",
       " 'Wrong, the answer is between 72 and 100. attempt = 2',\n",
       " 'Wrong, the answer is between 72 and 96. attempt = 3',\n",
       " 'Wrong, the answer is between 72 and 96. attempt = 4',\n",
       " 'Wrong, the answer is between 72 and 94. attempt = 5',\n",
       " 'Wrong, the answer is between 72 and 88. attempt = 6',\n",
       " 'Wrong, the answer is between 72 and 86. attempt = 7',\n",
       " 'Wrong, the answer is between 73 and 86. attempt = 8',\n",
       " 'Wrong, the answer is between 73 and 86. attempt = 9',\n",
       " 'You are right, you have attempt 9 times.',\n",
       " 'OK, have a nice day.']"
      ]
     },
     "execution_count": 20,
     "metadata": {},
     "output_type": "execute_result"
    }
   ],
   "source": [
    "robot.log"
   ]
  },
  {
   "cell_type": "code",
   "execution_count": 25,
   "id": "8a706a84",
   "metadata": {},
   "outputs": [
    {
     "data": {
      "text/plain": [
       "8.363636363636363"
      ]
     },
     "execution_count": 25,
     "metadata": {},
     "output_type": "execute_result"
    }
   ],
   "source": [
    "np.mean(robot.wrong_count_list)"
   ]
  },
  {
   "cell_type": "markdown",
   "id": "bb3aae47",
   "metadata": {},
   "source": [
    "This robot use on average 8.36 times to guess the right answer"
   ]
  },
  {
   "cell_type": "markdown",
   "id": "cb6a6f8c",
   "metadata": {},
   "source": [
    "A new robot knows about divide and conquer it will only take the middle number between the lower and upper bound"
   ]
  },
  {
   "cell_type": "code",
   "execution_count": 26,
   "id": "84ac2089",
   "metadata": {},
   "outputs": [],
   "source": [
    "class Advance_Robot():\n",
    "    def __init__(self):\n",
    "        self.starttime = 1\n",
    "        self.play_time = 10\n",
    "        self.log = []\n",
    "        self.wrong_count_list = []\n",
    "    \n",
    "    def can_start(self):\n",
    "        return self.starttime > 0\n",
    "    def can_play(self):\n",
    "        return self.play_time > 0\n",
    "        \n",
    "    def guess_number(self,lower,upper):\n",
    "        return round((lower + upper) / 2,0)"
   ]
  },
  {
   "cell_type": "code",
   "execution_count": 27,
   "id": "04c1b4d0",
   "metadata": {},
   "outputs": [],
   "source": [
    "ad_robot = Advance_Robot()\n",
    "env = Env()\n",
    "\n",
    "env.main_loop(ad_robot)"
   ]
  },
  {
   "cell_type": "code",
   "execution_count": 28,
   "id": "1f3cdd53",
   "metadata": {},
   "outputs": [
    {
     "data": {
      "text/plain": [
       "['Wrong, the answer is between 0 and 50.0. attempt = 1',\n",
       " 'Wrong, the answer is between 25.0 and 50.0. attempt = 2',\n",
       " 'Wrong, the answer is between 25.0 and 38.0. attempt = 3',\n",
       " 'Wrong, the answer is between 32.0 and 38.0. attempt = 4',\n",
       " 'You are right, you have attempt 4 times.',\n",
       " 'Wrong, the answer is between 50.0 and 100. attempt = 1',\n",
       " 'Wrong, the answer is between 75.0 and 100. attempt = 2',\n",
       " 'Wrong, the answer is between 75.0 and 88.0. attempt = 3',\n",
       " 'Wrong, the answer is between 82.0 and 88.0. attempt = 4',\n",
       " 'Wrong, the answer is between 85.0 and 88.0. attempt = 5',\n",
       " 'Wrong, the answer is between 86.0 and 88.0. attempt = 6',\n",
       " 'You are right, you have attempt 6 times.',\n",
       " 'Wrong, the answer is between 0 and 50.0. attempt = 1',\n",
       " 'Wrong, the answer is between 25.0 and 50.0. attempt = 2',\n",
       " 'Wrong, the answer is between 25.0 and 38.0. attempt = 3',\n",
       " 'Wrong, the answer is between 32.0 and 38.0. attempt = 4',\n",
       " 'You are right, you have attempt 4 times.',\n",
       " 'Wrong, the answer is between 50.0 and 100. attempt = 1',\n",
       " 'You are right, you have attempt 1 times.',\n",
       " 'Wrong, the answer is between 50.0 and 100. attempt = 1',\n",
       " 'Wrong, the answer is between 75.0 and 100. attempt = 2',\n",
       " 'Wrong, the answer is between 88.0 and 100. attempt = 3',\n",
       " 'Wrong, the answer is between 94.0 and 100. attempt = 4',\n",
       " 'Wrong, the answer is between 94.0 and 97.0. attempt = 5',\n",
       " 'You are right, you have attempt 5 times.',\n",
       " 'Wrong, the answer is between 0 and 50.0. attempt = 1',\n",
       " 'Wrong, the answer is between 0 and 25.0. attempt = 2',\n",
       " 'Wrong, the answer is between 0 and 12.0. attempt = 3',\n",
       " 'Wrong, the answer is between 6.0 and 12.0. attempt = 4',\n",
       " 'Wrong, the answer is between 6.0 and 9.0. attempt = 5',\n",
       " 'Wrong, the answer is between 6.0 and 8.0. attempt = 6',\n",
       " 'You are right, you have attempt 6 times.',\n",
       " 'Wrong, the answer is between 0 and 50.0. attempt = 1',\n",
       " 'Wrong, the answer is between 0 and 25.0. attempt = 2',\n",
       " 'Wrong, the answer is between 0 and 12.0. attempt = 3',\n",
       " 'You are right, you have attempt 3 times.',\n",
       " 'Wrong, the answer is between 50.0 and 100. attempt = 1',\n",
       " 'Wrong, the answer is between 50.0 and 75.0. attempt = 2',\n",
       " 'Wrong, the answer is between 50.0 and 62.0. attempt = 3',\n",
       " 'Wrong, the answer is between 50.0 and 56.0. attempt = 4',\n",
       " 'Wrong, the answer is between 53.0 and 56.0. attempt = 5',\n",
       " 'Wrong, the answer is between 54.0 and 56.0. attempt = 6',\n",
       " 'You are right, you have attempt 6 times.',\n",
       " 'Wrong, the answer is between 50.0 and 100. attempt = 1',\n",
       " 'Wrong, the answer is between 75.0 and 100. attempt = 2',\n",
       " 'Wrong, the answer is between 75.0 and 88.0. attempt = 3',\n",
       " 'Wrong, the answer is between 75.0 and 82.0. attempt = 4',\n",
       " 'You are right, you have attempt 4 times.',\n",
       " 'Wrong, the answer is between 50.0 and 100. attempt = 1',\n",
       " 'Wrong, the answer is between 50.0 and 75.0. attempt = 2',\n",
       " 'Wrong, the answer is between 62.0 and 75.0. attempt = 3',\n",
       " 'Wrong, the answer is between 62.0 and 68.0. attempt = 4',\n",
       " 'Wrong, the answer is between 65.0 and 68.0. attempt = 5',\n",
       " 'Wrong, the answer is between 66.0 and 68.0. attempt = 6',\n",
       " 'You are right, you have attempt 6 times.',\n",
       " 'Wrong, the answer is between 50.0 and 100. attempt = 1',\n",
       " 'Wrong, the answer is between 75.0 and 100. attempt = 2',\n",
       " 'Wrong, the answer is between 75.0 and 88.0. attempt = 3',\n",
       " 'Wrong, the answer is between 75.0 and 82.0. attempt = 4',\n",
       " 'Wrong, the answer is between 78.0 and 82.0. attempt = 5',\n",
       " 'You are right, you have attempt 5 times.',\n",
       " 'OK, have a nice day.']"
      ]
     },
     "execution_count": 28,
     "metadata": {},
     "output_type": "execute_result"
    }
   ],
   "source": [
    "ad_robot.log"
   ]
  },
  {
   "cell_type": "code",
   "execution_count": 29,
   "id": "8e36051d",
   "metadata": {},
   "outputs": [
    {
     "data": {
      "text/plain": [
       "4.545454545454546"
      ]
     },
     "execution_count": 29,
     "metadata": {},
     "output_type": "execute_result"
    }
   ],
   "source": [
    "np.mean(ad_robot.wrong_count_list)"
   ]
  },
  {
   "cell_type": "markdown",
   "id": "77ba540a",
   "metadata": {},
   "source": [
    "This robot use on average 4.54 times to guess the right answer."
   ]
  },
  {
   "cell_type": "code",
   "execution_count": null,
   "id": "ca301a10",
   "metadata": {},
   "outputs": [],
   "source": []
  }
 ],
 "metadata": {
  "kernelspec": {
   "display_name": "Python 3 (ipykernel)",
   "language": "python",
   "name": "python3"
  },
  "language_info": {
   "codemirror_mode": {
    "name": "ipython",
    "version": 3
   },
   "file_extension": ".py",
   "mimetype": "text/x-python",
   "name": "python",
   "nbconvert_exporter": "python",
   "pygments_lexer": "ipython3",
   "version": "3.9.6"
  }
 },
 "nbformat": 4,
 "nbformat_minor": 5
}
